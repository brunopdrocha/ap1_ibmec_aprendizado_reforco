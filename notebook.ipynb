{
 "cells": [
  {
   "cell_type": "markdown",
   "id": "83ecb7d3",
   "metadata": {},
   "source": [
    "# Aprendizado por Reforço\n",
    "\n",
    "- Bruno Pilão - 202201037911\n",
    "- Mateus Norcia - 202201038381\n",
    "- Isabelle -\n",
    "\n",
    "\n",
    "Este trabalho tem como objetivo aplicar os conceitos fundamentais de Aprendizado por Reforço (Reinforcement Learning) através da modelagem de um Processo de Decisão de Markov (MDP), utilizando o ambiente Taxi-v3 disponível na biblioteca Gymnasium.\n",
    "\n",
    "O ambiente simula um cenário onde um táxi deve buscar um passageiro em um ponto específico e levá-lo até o destino correto, dentro de um grid (5x5) com obstáculos e paredes. O agente (táxi) aprende a agir por tentativa e erro, buscando maximizar a recompensa acumulada com base nas ações tomadas.\n",
    "\n",
    "![Ambiente Taxi-v3](img/enviroment_taxi.png)\n",
    "\n"
   ]
  },
  {
   "cell_type": "code",
   "execution_count": 2,
   "id": "10d465c3",
   "metadata": {},
   "outputs": [
    {
     "name": "stderr",
     "output_type": "stream",
     "text": [
      "\n",
      "[notice] A new release of pip is available: 25.0.1 -> 25.2\n",
      "[notice] To update, run: python.exe -m pip install --upgrade pip\n",
      "\n",
      "[notice] A new release of pip is available: 25.0.1 -> 25.2\n",
      "[notice] To update, run: python.exe -m pip install --upgrade pip\n",
      "\n",
      "[notice] A new release of pip is available: 25.0.1 -> 25.2\n",
      "[notice] To update, run: python.exe -m pip install --upgrade pip\n",
      "\n",
      "[notice] A new release of pip is available: 25.0.1 -> 25.2\n",
      "[notice] To update, run: python.exe -m pip install --upgrade pip\n",
      "\n",
      "[notice] A new release of pip is available: 25.0.1 -> 25.2\n",
      "[notice] To update, run: python.exe -m pip install --upgrade pip\n"
     ]
    }
   ],
   "source": [
    "# Importando pacotes necessarios compilação collab \n",
    "!pip install gymnasium -q\n",
    "!pip install numpy -q\n",
    "!pip install matplotlib -q\n",
    "!pip install pandas -q\n",
    "!pip install seaborn -q\n",
    "\n",
    "\n"
   ]
  },
  {
   "cell_type": "markdown",
   "id": "f0ba458c",
   "metadata": {},
   "source": [
    "## 🧩 Definição do Markov Decision Process\n",
    "\n",
    "\n",
    "### Estados (S):\n",
    "- O ambiente tem 500 estados possíveis. Cada estado representa:\n",
    "\n",
    "- Posição do táxi (fila, coluna)\n",
    "\n",
    "- Local de origem do passageiro (uma das 5 localizações fixas)\n",
    "\n",
    "    - 0: Vermelho\n",
    "    - 1: Verde\n",
    "    - 2: Amarelo\n",
    "    - 3: Azul\n",
    "    - 4: No taxi\n",
    "\n",
    "### Ações (A):\n",
    "- 0 = Mover para sul\n",
    "- 1 = Mover para norte\n",
    "- 2 = Mover para leste\n",
    "- 3 = Mover para oeste\n",
    "- 4 = Pegar passageiro\n",
    "- 5 = Deixar passageiro\n",
    "\n",
    "### Transições (P(s'|s,a)):\n",
    "Determinísticas, exceto quando o táxi tenta atravessar uma parede — nesse caso, ele permanece no mesmo estado.\n",
    "\n",
    "Função de recompensa (R(s,a)):\n",
    "\n",
    "Cada movimento: −1\n",
    "\n",
    "Ação de pegar/deixar incorreta: −10\n",
    "\n",
    "Passageiro entregue corretamente: +20\n",
    "\n",
    "Fator de desconto (γ):\n",
    "\n",
    "Usaremos γ = 0.9"
   ]
  }
 ],
 "metadata": {
  "kernelspec": {
   "display_name": ".venv (3.13.3)",
   "language": "python",
   "name": "python3"
  },
  "language_info": {
   "codemirror_mode": {
    "name": "ipython",
    "version": 3
   },
   "file_extension": ".py",
   "mimetype": "text/x-python",
   "name": "python",
   "nbconvert_exporter": "python",
   "pygments_lexer": "ipython3",
   "version": "3.13.3"
  }
 },
 "nbformat": 4,
 "nbformat_minor": 5
}
